{
 "cells": [
  {
   "cell_type": "code",
   "execution_count": 172,
   "id": "020ec467",
   "metadata": {},
   "outputs": [],
   "source": [
    "class ListFunctions:\n",
    "    \n",
    "    newList = []\n",
    "    def flatList(self, lst):\n",
    "        for x in lst:\n",
    "            if not isinstance(x, list):\n",
    "                self.newList.append(x)\n",
    "            else:\n",
    "                self.flatList(x)\n",
    "        return self.newList\n",
    "    \n",
    "    \n",
    "    def reverseList(self, lst1):\n",
    "        for x in lst1:\n",
    "            if isinstance(x, list):\n",
    "                x.reverse()\n",
    "                self.reverseList(x)\n",
    "        return lst1"
   ]
  },
  {
   "cell_type": "code",
   "execution_count": null,
   "id": "b263e054",
   "metadata": {},
   "outputs": [],
   "source": []
  },
  {
   "cell_type": "code",
   "execution_count": null,
   "id": "52a9d7a2",
   "metadata": {},
   "outputs": [],
   "source": []
  },
  {
   "cell_type": "code",
   "execution_count": null,
   "id": "4ade3a01",
   "metadata": {},
   "outputs": [],
   "source": []
  },
  {
   "cell_type": "code",
   "execution_count": null,
   "id": "c7e5d44c",
   "metadata": {},
   "outputs": [],
   "source": []
  },
  {
   "cell_type": "code",
   "execution_count": null,
   "id": "135c1beb",
   "metadata": {},
   "outputs": [],
   "source": []
  },
  {
   "cell_type": "code",
   "execution_count": null,
   "id": "46b08c16",
   "metadata": {},
   "outputs": [],
   "source": []
  },
  {
   "cell_type": "code",
   "execution_count": null,
   "id": "b7a0e3df",
   "metadata": {},
   "outputs": [],
   "source": []
  }
 ],
 "metadata": {
  "kernelspec": {
   "display_name": "Python 3",
   "language": "python",
   "name": "python3"
  },
  "language_info": {
   "codemirror_mode": {
    "name": "ipython",
    "version": 3
   },
   "file_extension": ".py",
   "mimetype": "text/x-python",
   "name": "python",
   "nbconvert_exporter": "python",
   "pygments_lexer": "ipython3",
   "version": "3.9.6"
  }
 },
 "nbformat": 4,
 "nbformat_minor": 5
}
